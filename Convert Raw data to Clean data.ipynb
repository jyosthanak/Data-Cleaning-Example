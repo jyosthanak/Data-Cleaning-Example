{
 "cells": [
  {
   "cell_type": "markdown",
   "id": "efa4f325",
   "metadata": {},
   "source": [
    "# Converting Raw Data to Clean Data"
   ]
  },
  {
   "cell_type": "code",
   "execution_count": 1,
   "id": "de6c7b95",
   "metadata": {},
   "outputs": [],
   "source": [
    "str=\"Jyosthana Kadiyam\""
   ]
  },
  {
   "cell_type": "code",
   "execution_count": 2,
   "id": "b6812926",
   "metadata": {},
   "outputs": [
    {
     "data": {
      "text/plain": [
       "'Jyosthana Kadiyam'"
      ]
     },
     "execution_count": 2,
     "metadata": {},
     "output_type": "execute_result"
    }
   ],
   "source": [
    "str"
   ]
  },
  {
   "cell_type": "code",
   "execution_count": 6,
   "id": "c37e89ea",
   "metadata": {},
   "outputs": [
    {
     "data": {
      "text/plain": [
       "['Jyosthana', 'Kadiyam']"
      ]
     },
     "execution_count": 6,
     "metadata": {},
     "output_type": "execute_result"
    }
   ],
   "source": [
    "s=str.split() #sring splits into list of pbjects\n",
    "s"
   ]
  },
  {
   "cell_type": "code",
   "execution_count": 7,
   "id": "7f48471b",
   "metadata": {},
   "outputs": [
    {
     "data": {
      "text/plain": [
       "array([[1, 2, 3],\n",
       "       [4, 5, 6]])"
      ]
     },
     "execution_count": 7,
     "metadata": {},
     "output_type": "execute_result"
    }
   ],
   "source": [
    "import numpy as np\n",
    "arr=np.array([[1,2,3],[4,5,6]])\n",
    "arr"
   ]
  },
  {
   "cell_type": "code",
   "execution_count": 8,
   "id": "abca796a",
   "metadata": {},
   "outputs": [
    {
     "data": {
      "text/plain": [
       "[array([[1, 2, 3]]), array([[4, 5, 6]])]"
      ]
     },
     "execution_count": 8,
     "metadata": {},
     "output_type": "execute_result"
    }
   ],
   "source": [
    "np.split(arr,2) "
   ]
  },
  {
   "cell_type": "code",
   "execution_count": 9,
   "id": "0768edfa",
   "metadata": {},
   "outputs": [
    {
     "data": {
      "text/plain": [
       "'660 1stAve NewYork 10016'"
      ]
     },
     "execution_count": 9,
     "metadata": {},
     "output_type": "execute_result"
    }
   ],
   "source": [
    "address=\"660 1stAve NewYork 10016\"\n",
    "address"
   ]
  },
  {
   "cell_type": "code",
   "execution_count": 10,
   "id": "5ba3fbda",
   "metadata": {},
   "outputs": [
    {
     "data": {
      "text/plain": [
       "['660', '1stAve', 'NewYork', '10016']"
      ]
     },
     "execution_count": 10,
     "metadata": {},
     "output_type": "execute_result"
    }
   ],
   "source": [
    "addr=address.split()\n",
    "addr"
   ]
  },
  {
   "cell_type": "code",
   "execution_count": 11,
   "id": "02fd69cf",
   "metadata": {},
   "outputs": [
    {
     "data": {
      "text/plain": [
       "{'house no.': '660',\n",
       " 'street': '1stAve',\n",
       " 'state': 'NewYork',\n",
       " 'zipcode': '10016'}"
      ]
     },
     "execution_count": 11,
     "metadata": {},
     "output_type": "execute_result"
    }
   ],
   "source": [
    "col=['house no.','street','state','zipcode']\n",
    "dict1=dict(zip(col,addr))\n",
    "dict1"
   ]
  },
  {
   "cell_type": "code",
   "execution_count": 13,
   "id": "26a81d02",
   "metadata": {},
   "outputs": [
    {
     "data": {
      "text/html": [
       "<div>\n",
       "<style scoped>\n",
       "    .dataframe tbody tr th:only-of-type {\n",
       "        vertical-align: middle;\n",
       "    }\n",
       "\n",
       "    .dataframe tbody tr th {\n",
       "        vertical-align: top;\n",
       "    }\n",
       "\n",
       "    .dataframe thead th {\n",
       "        text-align: right;\n",
       "    }\n",
       "</style>\n",
       "<table border=\"1\" class=\"dataframe\">\n",
       "  <thead>\n",
       "    <tr style=\"text-align: right;\">\n",
       "      <th></th>\n",
       "      <th>Unnamed: 0</th>\n",
       "      <th>Unnamed: 1</th>\n",
       "      <th>Address</th>\n",
       "      <th>Dt</th>\n",
       "      <th>Name</th>\n",
       "      <th>Time</th>\n",
       "    </tr>\n",
       "  </thead>\n",
       "  <tbody>\n",
       "    <tr>\n",
       "      <th>0</th>\n",
       "      <td>0</td>\n",
       "      <td>Nan</td>\n",
       "      <td>45 rd, kenith street, btm, bangalore ,500038</td>\n",
       "      <td>4/3/22</td>\n",
       "      <td>abc</td>\n",
       "      <td>8:30:21</td>\n",
       "    </tr>\n",
       "    <tr>\n",
       "      <th>1</th>\n",
       "      <td>1</td>\n",
       "      <td>Nan</td>\n",
       "      <td>45 rd, street, hitech, Hd ,500038</td>\n",
       "      <td>4/22/22</td>\n",
       "      <td>dec</td>\n",
       "      <td>5:30:21</td>\n",
       "    </tr>\n",
       "  </tbody>\n",
       "</table>\n",
       "</div>"
      ],
      "text/plain": [
       "   Unnamed: 0 Unnamed: 1                                       Address  \\\n",
       "0           0        Nan  45 rd, kenith street, btm, bangalore ,500038   \n",
       "1           1        Nan             45 rd, street, hitech, Hd ,500038   \n",
       "\n",
       "        Dt Name     Time  \n",
       "0   4/3/22  abc  8:30:21  \n",
       "1  4/22/22  dec  5:30:21  "
      ]
     },
     "execution_count": 13,
     "metadata": {},
     "output_type": "execute_result"
    }
   ],
   "source": [
    "import pandas as pd\n",
    "df=pd.read_csv(r'/Users/jyosthanakadiyam/Desktop/Full Stack DS/Oct 2023/3rd/rawdata.csv')\n",
    "df"
   ]
  },
  {
   "cell_type": "code",
   "execution_count": 15,
   "id": "569c5c90",
   "metadata": {},
   "outputs": [
    {
     "data": {
      "text/html": [
       "<div>\n",
       "<style scoped>\n",
       "    .dataframe tbody tr th:only-of-type {\n",
       "        vertical-align: middle;\n",
       "    }\n",
       "\n",
       "    .dataframe tbody tr th {\n",
       "        vertical-align: top;\n",
       "    }\n",
       "\n",
       "    .dataframe thead th {\n",
       "        text-align: right;\n",
       "    }\n",
       "</style>\n",
       "<table border=\"1\" class=\"dataframe\">\n",
       "  <thead>\n",
       "    <tr style=\"text-align: right;\">\n",
       "      <th></th>\n",
       "      <th>Unnamed: 0</th>\n",
       "      <th>Unnamed: 1</th>\n",
       "      <th>Address</th>\n",
       "      <th>Dt</th>\n",
       "      <th>Name</th>\n",
       "      <th>Time</th>\n",
       "    </tr>\n",
       "  </thead>\n",
       "  <tbody>\n",
       "    <tr>\n",
       "      <th>0</th>\n",
       "      <td>0</td>\n",
       "      <td>Nan</td>\n",
       "      <td>45 rd, kenith street, btm, bangalore ,500038</td>\n",
       "      <td>4/3/22</td>\n",
       "      <td>abc</td>\n",
       "      <td>8:30:21</td>\n",
       "    </tr>\n",
       "    <tr>\n",
       "      <th>1</th>\n",
       "      <td>1</td>\n",
       "      <td>Nan</td>\n",
       "      <td>45 rd, street, hitech, Hd ,500038</td>\n",
       "      <td>4/22/22</td>\n",
       "      <td>dec</td>\n",
       "      <td>5:30:21</td>\n",
       "    </tr>\n",
       "  </tbody>\n",
       "</table>\n",
       "</div>"
      ],
      "text/plain": [
       "   Unnamed: 0 Unnamed: 1                                       Address  \\\n",
       "0           0        Nan  45 rd, kenith street, btm, bangalore ,500038   \n",
       "1           1        Nan             45 rd, street, hitech, Hd ,500038   \n",
       "\n",
       "        Dt Name     Time  \n",
       "0   4/3/22  abc  8:30:21  \n",
       "1  4/22/22  dec  5:30:21  "
      ]
     },
     "execution_count": 15,
     "metadata": {},
     "output_type": "execute_result"
    }
   ],
   "source": [
    "df.dropna(axis=1,inplace=True) #removes NaN columns\n",
    "df"
   ]
  },
  {
   "cell_type": "code",
   "execution_count": 18,
   "id": "2596b81d",
   "metadata": {},
   "outputs": [
    {
     "data": {
      "text/html": [
       "<div>\n",
       "<style scoped>\n",
       "    .dataframe tbody tr th:only-of-type {\n",
       "        vertical-align: middle;\n",
       "    }\n",
       "\n",
       "    .dataframe tbody tr th {\n",
       "        vertical-align: top;\n",
       "    }\n",
       "\n",
       "    .dataframe thead th {\n",
       "        text-align: right;\n",
       "    }\n",
       "</style>\n",
       "<table border=\"1\" class=\"dataframe\">\n",
       "  <thead>\n",
       "    <tr style=\"text-align: right;\">\n",
       "      <th></th>\n",
       "      <th>Unnamed: 0</th>\n",
       "      <th>Unnamed: 1</th>\n",
       "      <th>Address</th>\n",
       "      <th>Dt</th>\n",
       "      <th>Name</th>\n",
       "      <th>Time</th>\n",
       "      <th>house no.</th>\n",
       "      <th>street</th>\n",
       "      <th>city</th>\n",
       "      <th>state</th>\n",
       "      <th>zipcode</th>\n",
       "    </tr>\n",
       "  </thead>\n",
       "  <tbody>\n",
       "    <tr>\n",
       "      <th>0</th>\n",
       "      <td>0</td>\n",
       "      <td>Nan</td>\n",
       "      <td>45 rd, kenith street, btm, bangalore ,500038</td>\n",
       "      <td>4/3/22</td>\n",
       "      <td>abc</td>\n",
       "      <td>8:30:21</td>\n",
       "      <td>45 rd</td>\n",
       "      <td>kenith street</td>\n",
       "      <td>btm</td>\n",
       "      <td>bangalore</td>\n",
       "      <td>500038</td>\n",
       "    </tr>\n",
       "    <tr>\n",
       "      <th>1</th>\n",
       "      <td>1</td>\n",
       "      <td>Nan</td>\n",
       "      <td>45 rd, street, hitech, Hd ,500038</td>\n",
       "      <td>4/22/22</td>\n",
       "      <td>dec</td>\n",
       "      <td>5:30:21</td>\n",
       "      <td>45 rd</td>\n",
       "      <td>street</td>\n",
       "      <td>hitech</td>\n",
       "      <td>Hd</td>\n",
       "      <td>500038</td>\n",
       "    </tr>\n",
       "  </tbody>\n",
       "</table>\n",
       "</div>"
      ],
      "text/plain": [
       "   Unnamed: 0 Unnamed: 1                                       Address  \\\n",
       "0           0        Nan  45 rd, kenith street, btm, bangalore ,500038   \n",
       "1           1        Nan             45 rd, street, hitech, Hd ,500038   \n",
       "\n",
       "        Dt Name     Time house no.          street     city        state  \\\n",
       "0   4/3/22  abc  8:30:21     45 rd   kenith street      btm   bangalore    \n",
       "1  4/22/22  dec  5:30:21     45 rd          street   hitech          Hd    \n",
       "\n",
       "  zipcode  \n",
       "0  500038  \n",
       "1  500038  "
      ]
     },
     "execution_count": 18,
     "metadata": {},
     "output_type": "execute_result"
    }
   ],
   "source": [
    "df[['house no.','street','city','state','zipcode']]=df['Address'].str.split(',',expand=True)\n",
    "df"
   ]
  },
  {
   "cell_type": "code",
   "execution_count": 19,
   "id": "d8e7b6f2",
   "metadata": {},
   "outputs": [
    {
     "data": {
      "text/html": [
       "<div>\n",
       "<style scoped>\n",
       "    .dataframe tbody tr th:only-of-type {\n",
       "        vertical-align: middle;\n",
       "    }\n",
       "\n",
       "    .dataframe tbody tr th {\n",
       "        vertical-align: top;\n",
       "    }\n",
       "\n",
       "    .dataframe thead th {\n",
       "        text-align: right;\n",
       "    }\n",
       "</style>\n",
       "<table border=\"1\" class=\"dataframe\">\n",
       "  <thead>\n",
       "    <tr style=\"text-align: right;\">\n",
       "      <th></th>\n",
       "      <th>Unnamed: 0</th>\n",
       "      <th>Unnamed: 1</th>\n",
       "      <th>Address</th>\n",
       "      <th>Dt</th>\n",
       "      <th>Name</th>\n",
       "      <th>Time</th>\n",
       "      <th>house no.</th>\n",
       "      <th>street</th>\n",
       "      <th>city</th>\n",
       "      <th>state</th>\n",
       "      <th>zipcode</th>\n",
       "      <th>month</th>\n",
       "      <th>date</th>\n",
       "      <th>year</th>\n",
       "    </tr>\n",
       "  </thead>\n",
       "  <tbody>\n",
       "    <tr>\n",
       "      <th>0</th>\n",
       "      <td>0</td>\n",
       "      <td>Nan</td>\n",
       "      <td>45 rd, kenith street, btm, bangalore ,500038</td>\n",
       "      <td>4/3/22</td>\n",
       "      <td>abc</td>\n",
       "      <td>8:30:21</td>\n",
       "      <td>45 rd</td>\n",
       "      <td>kenith street</td>\n",
       "      <td>btm</td>\n",
       "      <td>bangalore</td>\n",
       "      <td>500038</td>\n",
       "      <td>4</td>\n",
       "      <td>3</td>\n",
       "      <td>22</td>\n",
       "    </tr>\n",
       "    <tr>\n",
       "      <th>1</th>\n",
       "      <td>1</td>\n",
       "      <td>Nan</td>\n",
       "      <td>45 rd, street, hitech, Hd ,500038</td>\n",
       "      <td>4/22/22</td>\n",
       "      <td>dec</td>\n",
       "      <td>5:30:21</td>\n",
       "      <td>45 rd</td>\n",
       "      <td>street</td>\n",
       "      <td>hitech</td>\n",
       "      <td>Hd</td>\n",
       "      <td>500038</td>\n",
       "      <td>4</td>\n",
       "      <td>22</td>\n",
       "      <td>22</td>\n",
       "    </tr>\n",
       "  </tbody>\n",
       "</table>\n",
       "</div>"
      ],
      "text/plain": [
       "   Unnamed: 0 Unnamed: 1                                       Address  \\\n",
       "0           0        Nan  45 rd, kenith street, btm, bangalore ,500038   \n",
       "1           1        Nan             45 rd, street, hitech, Hd ,500038   \n",
       "\n",
       "        Dt Name     Time house no.          street     city        state  \\\n",
       "0   4/3/22  abc  8:30:21     45 rd   kenith street      btm   bangalore    \n",
       "1  4/22/22  dec  5:30:21     45 rd          street   hitech          Hd    \n",
       "\n",
       "  zipcode month date year  \n",
       "0  500038     4    3   22  \n",
       "1  500038     4   22   22  "
      ]
     },
     "execution_count": 19,
     "metadata": {},
     "output_type": "execute_result"
    }
   ],
   "source": [
    "df[['month','date','year']]=df['Dt'].str.split(\"/\",expand=True)\n",
    "df"
   ]
  },
  {
   "cell_type": "code",
   "execution_count": 23,
   "id": "553f407b",
   "metadata": {},
   "outputs": [
    {
     "data": {
      "text/html": [
       "<div>\n",
       "<style scoped>\n",
       "    .dataframe tbody tr th:only-of-type {\n",
       "        vertical-align: middle;\n",
       "    }\n",
       "\n",
       "    .dataframe tbody tr th {\n",
       "        vertical-align: top;\n",
       "    }\n",
       "\n",
       "    .dataframe thead th {\n",
       "        text-align: right;\n",
       "    }\n",
       "</style>\n",
       "<table border=\"1\" class=\"dataframe\">\n",
       "  <thead>\n",
       "    <tr style=\"text-align: right;\">\n",
       "      <th></th>\n",
       "      <th>Unnamed: 0</th>\n",
       "      <th>Unnamed: 1</th>\n",
       "      <th>Address</th>\n",
       "      <th>Name</th>\n",
       "      <th>Time</th>\n",
       "      <th>house no.</th>\n",
       "      <th>street</th>\n",
       "      <th>city</th>\n",
       "      <th>state</th>\n",
       "      <th>zipcode</th>\n",
       "      <th>month</th>\n",
       "      <th>date</th>\n",
       "      <th>year</th>\n",
       "    </tr>\n",
       "  </thead>\n",
       "  <tbody>\n",
       "    <tr>\n",
       "      <th>0</th>\n",
       "      <td>0</td>\n",
       "      <td>Nan</td>\n",
       "      <td>45 rd, kenith street, btm, bangalore ,500038</td>\n",
       "      <td>abc</td>\n",
       "      <td>8:30:21</td>\n",
       "      <td>45 rd</td>\n",
       "      <td>kenith street</td>\n",
       "      <td>btm</td>\n",
       "      <td>bangalore</td>\n",
       "      <td>500038</td>\n",
       "      <td>4</td>\n",
       "      <td>3</td>\n",
       "      <td>22</td>\n",
       "    </tr>\n",
       "    <tr>\n",
       "      <th>1</th>\n",
       "      <td>1</td>\n",
       "      <td>Nan</td>\n",
       "      <td>45 rd, street, hitech, Hd ,500038</td>\n",
       "      <td>dec</td>\n",
       "      <td>5:30:21</td>\n",
       "      <td>45 rd</td>\n",
       "      <td>street</td>\n",
       "      <td>hitech</td>\n",
       "      <td>Hd</td>\n",
       "      <td>500038</td>\n",
       "      <td>4</td>\n",
       "      <td>22</td>\n",
       "      <td>22</td>\n",
       "    </tr>\n",
       "  </tbody>\n",
       "</table>\n",
       "</div>"
      ],
      "text/plain": [
       "   Unnamed: 0 Unnamed: 1                                       Address Name  \\\n",
       "0           0        Nan  45 rd, kenith street, btm, bangalore ,500038  abc   \n",
       "1           1        Nan             45 rd, street, hitech, Hd ,500038  dec   \n",
       "\n",
       "      Time house no.          street     city        state zipcode month date  \\\n",
       "0  8:30:21     45 rd   kenith street      btm   bangalore   500038     4    3   \n",
       "1  5:30:21     45 rd          street   hitech          Hd   500038     4   22   \n",
       "\n",
       "  year  \n",
       "0   22  \n",
       "1   22  "
      ]
     },
     "execution_count": 23,
     "metadata": {},
     "output_type": "execute_result"
    }
   ],
   "source": [
    "df"
   ]
  },
  {
   "cell_type": "code",
   "execution_count": 24,
   "id": "92067860",
   "metadata": {},
   "outputs": [
    {
     "data": {
      "text/html": [
       "<div>\n",
       "<style scoped>\n",
       "    .dataframe tbody tr th:only-of-type {\n",
       "        vertical-align: middle;\n",
       "    }\n",
       "\n",
       "    .dataframe tbody tr th {\n",
       "        vertical-align: top;\n",
       "    }\n",
       "\n",
       "    .dataframe thead th {\n",
       "        text-align: right;\n",
       "    }\n",
       "</style>\n",
       "<table border=\"1\" class=\"dataframe\">\n",
       "  <thead>\n",
       "    <tr style=\"text-align: right;\">\n",
       "      <th></th>\n",
       "      <th>Unnamed: 0</th>\n",
       "      <th>Unnamed: 1</th>\n",
       "      <th>Name</th>\n",
       "      <th>Time</th>\n",
       "      <th>house no.</th>\n",
       "      <th>street</th>\n",
       "      <th>city</th>\n",
       "      <th>state</th>\n",
       "      <th>zipcode</th>\n",
       "      <th>month</th>\n",
       "      <th>date</th>\n",
       "      <th>year</th>\n",
       "    </tr>\n",
       "  </thead>\n",
       "  <tbody>\n",
       "    <tr>\n",
       "      <th>0</th>\n",
       "      <td>0</td>\n",
       "      <td>Nan</td>\n",
       "      <td>abc</td>\n",
       "      <td>8:30:21</td>\n",
       "      <td>45 rd</td>\n",
       "      <td>kenith street</td>\n",
       "      <td>btm</td>\n",
       "      <td>bangalore</td>\n",
       "      <td>500038</td>\n",
       "      <td>4</td>\n",
       "      <td>3</td>\n",
       "      <td>22</td>\n",
       "    </tr>\n",
       "    <tr>\n",
       "      <th>1</th>\n",
       "      <td>1</td>\n",
       "      <td>Nan</td>\n",
       "      <td>dec</td>\n",
       "      <td>5:30:21</td>\n",
       "      <td>45 rd</td>\n",
       "      <td>street</td>\n",
       "      <td>hitech</td>\n",
       "      <td>Hd</td>\n",
       "      <td>500038</td>\n",
       "      <td>4</td>\n",
       "      <td>22</td>\n",
       "      <td>22</td>\n",
       "    </tr>\n",
       "  </tbody>\n",
       "</table>\n",
       "</div>"
      ],
      "text/plain": [
       "   Unnamed: 0 Unnamed: 1 Name     Time house no.          street     city  \\\n",
       "0           0        Nan  abc  8:30:21     45 rd   kenith street      btm   \n",
       "1           1        Nan  dec  5:30:21     45 rd          street   hitech   \n",
       "\n",
       "         state zipcode month date year  \n",
       "0   bangalore   500038     4    3   22  \n",
       "1          Hd   500038     4   22   22  "
      ]
     },
     "execution_count": 24,
     "metadata": {},
     "output_type": "execute_result"
    }
   ],
   "source": [
    "df=df.drop(\"Address\",axis=1)\n",
    "df"
   ]
  },
  {
   "cell_type": "code",
   "execution_count": 26,
   "id": "4efce4ee",
   "metadata": {},
   "outputs": [
    {
     "data": {
      "text/html": [
       "<div>\n",
       "<style scoped>\n",
       "    .dataframe tbody tr th:only-of-type {\n",
       "        vertical-align: middle;\n",
       "    }\n",
       "\n",
       "    .dataframe tbody tr th {\n",
       "        vertical-align: top;\n",
       "    }\n",
       "\n",
       "    .dataframe thead th {\n",
       "        text-align: right;\n",
       "    }\n",
       "</style>\n",
       "<table border=\"1\" class=\"dataframe\">\n",
       "  <thead>\n",
       "    <tr style=\"text-align: right;\">\n",
       "      <th></th>\n",
       "      <th>Unnamed: 0</th>\n",
       "      <th>Unnamed: 1</th>\n",
       "      <th>Name</th>\n",
       "      <th>Time</th>\n",
       "      <th>house no.</th>\n",
       "      <th>street</th>\n",
       "      <th>city</th>\n",
       "      <th>state</th>\n",
       "      <th>zipcode</th>\n",
       "      <th>month</th>\n",
       "      <th>date</th>\n",
       "      <th>year</th>\n",
       "      <th>hrs</th>\n",
       "      <th>min</th>\n",
       "      <th>sec</th>\n",
       "    </tr>\n",
       "  </thead>\n",
       "  <tbody>\n",
       "    <tr>\n",
       "      <th>0</th>\n",
       "      <td>0</td>\n",
       "      <td>Nan</td>\n",
       "      <td>abc</td>\n",
       "      <td>8:30:21</td>\n",
       "      <td>45 rd</td>\n",
       "      <td>kenith street</td>\n",
       "      <td>btm</td>\n",
       "      <td>bangalore</td>\n",
       "      <td>500038</td>\n",
       "      <td>4</td>\n",
       "      <td>3</td>\n",
       "      <td>22</td>\n",
       "      <td>8</td>\n",
       "      <td>30</td>\n",
       "      <td>21</td>\n",
       "    </tr>\n",
       "    <tr>\n",
       "      <th>1</th>\n",
       "      <td>1</td>\n",
       "      <td>Nan</td>\n",
       "      <td>dec</td>\n",
       "      <td>5:30:21</td>\n",
       "      <td>45 rd</td>\n",
       "      <td>street</td>\n",
       "      <td>hitech</td>\n",
       "      <td>Hd</td>\n",
       "      <td>500038</td>\n",
       "      <td>4</td>\n",
       "      <td>22</td>\n",
       "      <td>22</td>\n",
       "      <td>5</td>\n",
       "      <td>30</td>\n",
       "      <td>21</td>\n",
       "    </tr>\n",
       "  </tbody>\n",
       "</table>\n",
       "</div>"
      ],
      "text/plain": [
       "   Unnamed: 0 Unnamed: 1 Name     Time house no.          street     city  \\\n",
       "0           0        Nan  abc  8:30:21     45 rd   kenith street      btm   \n",
       "1           1        Nan  dec  5:30:21     45 rd          street   hitech   \n",
       "\n",
       "         state zipcode month date year hrs min sec  \n",
       "0   bangalore   500038     4    3   22   8  30  21  \n",
       "1          Hd   500038     4   22   22   5  30  21  "
      ]
     },
     "execution_count": 26,
     "metadata": {},
     "output_type": "execute_result"
    }
   ],
   "source": [
    "df[[\"hrs\",\"min\",\"sec\"]]=df[\"Time\"].str.split(\":\",expand=True)\n",
    "df"
   ]
  },
  {
   "cell_type": "code",
   "execution_count": 27,
   "id": "46d6754a",
   "metadata": {},
   "outputs": [
    {
     "data": {
      "text/html": [
       "<div>\n",
       "<style scoped>\n",
       "    .dataframe tbody tr th:only-of-type {\n",
       "        vertical-align: middle;\n",
       "    }\n",
       "\n",
       "    .dataframe tbody tr th {\n",
       "        vertical-align: top;\n",
       "    }\n",
       "\n",
       "    .dataframe thead th {\n",
       "        text-align: right;\n",
       "    }\n",
       "</style>\n",
       "<table border=\"1\" class=\"dataframe\">\n",
       "  <thead>\n",
       "    <tr style=\"text-align: right;\">\n",
       "      <th></th>\n",
       "      <th>Unnamed: 0</th>\n",
       "      <th>Unnamed: 1</th>\n",
       "      <th>Name</th>\n",
       "      <th>house no.</th>\n",
       "      <th>street</th>\n",
       "      <th>city</th>\n",
       "      <th>state</th>\n",
       "      <th>zipcode</th>\n",
       "      <th>month</th>\n",
       "      <th>date</th>\n",
       "      <th>year</th>\n",
       "      <th>hrs</th>\n",
       "      <th>min</th>\n",
       "      <th>sec</th>\n",
       "    </tr>\n",
       "  </thead>\n",
       "  <tbody>\n",
       "    <tr>\n",
       "      <th>0</th>\n",
       "      <td>0</td>\n",
       "      <td>Nan</td>\n",
       "      <td>abc</td>\n",
       "      <td>45 rd</td>\n",
       "      <td>kenith street</td>\n",
       "      <td>btm</td>\n",
       "      <td>bangalore</td>\n",
       "      <td>500038</td>\n",
       "      <td>4</td>\n",
       "      <td>3</td>\n",
       "      <td>22</td>\n",
       "      <td>8</td>\n",
       "      <td>30</td>\n",
       "      <td>21</td>\n",
       "    </tr>\n",
       "    <tr>\n",
       "      <th>1</th>\n",
       "      <td>1</td>\n",
       "      <td>Nan</td>\n",
       "      <td>dec</td>\n",
       "      <td>45 rd</td>\n",
       "      <td>street</td>\n",
       "      <td>hitech</td>\n",
       "      <td>Hd</td>\n",
       "      <td>500038</td>\n",
       "      <td>4</td>\n",
       "      <td>22</td>\n",
       "      <td>22</td>\n",
       "      <td>5</td>\n",
       "      <td>30</td>\n",
       "      <td>21</td>\n",
       "    </tr>\n",
       "  </tbody>\n",
       "</table>\n",
       "</div>"
      ],
      "text/plain": [
       "   Unnamed: 0 Unnamed: 1 Name house no.          street     city        state  \\\n",
       "0           0        Nan  abc     45 rd   kenith street      btm   bangalore    \n",
       "1           1        Nan  dec     45 rd          street   hitech          Hd    \n",
       "\n",
       "  zipcode month date year hrs min sec  \n",
       "0  500038     4    3   22   8  30  21  \n",
       "1  500038     4   22   22   5  30  21  "
      ]
     },
     "execution_count": 27,
     "metadata": {},
     "output_type": "execute_result"
    }
   ],
   "source": [
    "df=df.drop(\"Time\",axis=1)\n",
    "df"
   ]
  }
 ],
 "metadata": {
  "kernelspec": {
   "display_name": "Python 3 (ipykernel)",
   "language": "python",
   "name": "python3"
  },
  "language_info": {
   "codemirror_mode": {
    "name": "ipython",
    "version": 3
   },
   "file_extension": ".py",
   "mimetype": "text/x-python",
   "name": "python",
   "nbconvert_exporter": "python",
   "pygments_lexer": "ipython3",
   "version": "3.11.5"
  }
 },
 "nbformat": 4,
 "nbformat_minor": 5
}
